{
 "cells": [
  {
   "cell_type": "markdown",
   "metadata": {},
   "source": [
    "https://zhuanlan.zhihu.com/p/379321563\n",
    "\n",
    "运行前要先绑定调试的浏览器\\\n",
    "cmd command \\\n",
    "cd C:\\Program Files (x86)\\Google\\Chrome\\Application\\\n",
    "chrome.exe --remote-debugging-port=8889"
   ]
  },
  {
   "cell_type": "code",
   "execution_count": 1,
   "metadata": {},
   "outputs": [],
   "source": [
    "from bs4 import BeautifulSoup\n",
    "from selenium import webdriver \n",
    "import csv\n",
    "import time\n",
    "import os"
   ]
  },
  {
   "cell_type": "code",
   "execution_count": 2,
   "metadata": {},
   "outputs": [],
   "source": [
    "# #全局变量\n",
    "# citys = ['武汉','北京','上海','广州','深圳','成都','西安','杭州','长沙'，'重庆']\n",
    "# years = ['2015','2016','2017','2018','2019','2020','2021']\n",
    "# months = ['01','02','03','04','05','06','07','08','09','10','11','12']\n",
    "# url = 'https://www.aqistudy.cn/historydata/daydata.php?city='"
   ]
  },
  {
   "cell_type": "code",
   "execution_count": 4,
   "metadata": {},
   "outputs": [],
   "source": [
    "# option = webdriver.ChromeOptions() \n",
    "# option.add_experimental_option('debuggerAddress','127.0.0.1:9222') \n",
    "# driver = webdriver.Chrome(executable_path=\"B:\\Program Files\\python3.7.9\\chromedriver.exe\",options=option) "
   ]
  },
  {
   "cell_type": "code",
   "execution_count": 6,
   "metadata": {},
   "outputs": [],
   "source": [
    "def spider(url,city,year,month):\n",
    "    driver.get(f'{url}{city}&month={year}{month}')\n",
    "    driver.implicitly_wait(1.5)\n",
    "    html_doc = driver.page_source.encode(\"gbk\", \"ignore\")\n",
    "    soup = BeautifulSoup(html_doc, 'html.parser')\n",
    "    table = soup.find(\"table\") \n",
    "    \n",
    "    data = []\n",
    "    rows = table.find_all('tr')\n",
    "    del rows[0]\n",
    "    \n",
    "    for row in rows:\n",
    "        cols=row.find_all('td')\n",
    "        cols=[x.text.strip() for x in cols]\n",
    "        data.append(cols)\n",
    "\n",
    "    with open(f'B:/codework/study/adss 504/input/{city}{year}.csv', 'a', newline ='') as f:\n",
    "        writer = csv.writer(f)\n",
    "        writer.writerows(data)\n",
    "\n",
    "        "
   ]
  },
  {
   "cell_type": "code",
   "execution_count": null,
   "metadata": {},
   "outputs": [],
   "source": [
    "option = webdriver.ChromeOptions() \n",
    "option.add_experimental_option('debuggerAddress','127.0.0.1:8889') \n",
    "driver = webdriver.Chrome(executable_path=\"B:\\Program Files\\python3.7.9\\chromedriver.exe\", options=option) \n",
    "\n",
    "cities = ['重庆']\n",
    "years = ['2015','2016','2017','2018','2019','2020']\n",
    "months = ['01','02','03','04','05','06','07','08','09','10','11','12']\n",
    "# months = ['01','02','03','04','05','06']\n",
    "for city in cities:\n",
    "    for year in years:\n",
    "        for month in months:\n",
    "            spider(url,city,year,month)\n",
    "            time.sleep(1)\n",
    "        if os.path.exists(f'B:/codework/study/adss 504/input/{city}{year}.csv'):\n",
    "            os.remove( f'B:/codework/study/adss 504/input/{city}{year}.csv')\n",
    "\n",
    "        for month in months:\n",
    "            spider(url,city,year,month)\n",
    "            time.sleep(1)\n",
    "\n"
   ]
  },
  {
   "cell_type": "code",
   "execution_count": 42,
   "metadata": {},
   "outputs": [],
   "source": [
    "# months = ['01','02','03','04','05','06','07','08','09','10','11','12']\n",
    "# for month in months:    \n",
    "#     spider(url,'杭州','2018',month)"
   ]
  }
 ],
 "metadata": {
  "kernelspec": {
   "display_name": "Python 3",
   "language": "python",
   "name": "python3"
  },
  "language_info": {
   "codemirror_mode": {
    "name": "ipython",
    "version": 3
   },
   "file_extension": ".py",
   "mimetype": "text/x-python",
   "name": "python",
   "nbconvert_exporter": "python",
   "pygments_lexer": "ipython3",
   "version": "3.7.9"
  },
  "toc": {
   "base_numbering": 1,
   "nav_menu": {},
   "number_sections": true,
   "sideBar": true,
   "skip_h1_title": false,
   "title_cell": "Table of Contents",
   "title_sidebar": "Contents",
   "toc_cell": false,
   "toc_position": {},
   "toc_section_display": true,
   "toc_window_display": false
  },
  "varInspector": {
   "cols": {
    "lenName": 16,
    "lenType": 16,
    "lenVar": 40
   },
   "kernels_config": {
    "python": {
     "delete_cmd_postfix": "",
     "delete_cmd_prefix": "del ",
     "library": "var_list.py",
     "varRefreshCmd": "print(var_dic_list())"
    },
    "r": {
     "delete_cmd_postfix": ") ",
     "delete_cmd_prefix": "rm(",
     "library": "var_list.r",
     "varRefreshCmd": "cat(var_dic_list()) "
    }
   },
   "position": {
    "height": "144.844px",
    "left": "769.143px",
    "right": "20px",
    "top": "170px",
    "width": "350px"
   },
   "types_to_exclude": [
    "module",
    "function",
    "builtin_function_or_method",
    "instance",
    "_Feature"
   ],
   "window_display": false
  }
 },
 "nbformat": 4,
 "nbformat_minor": 4
}
